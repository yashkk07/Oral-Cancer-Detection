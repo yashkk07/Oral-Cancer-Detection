{
 "cells": [
  {
   "metadata": {},
   "cell_type": "markdown",
   "source": "Histopathologic Oral Cancer Detection using CNNs",
   "id": "e3e3335d6dbefdf0"
  },
  {
   "cell_type": "code",
   "id": "initial_id",
   "metadata": {
    "collapsed": true,
    "ExecuteTime": {
     "end_time": "2024-12-18T12:23:07.294313Z",
     "start_time": "2024-12-18T12:23:07.272044Z"
    }
   },
   "source": [
    "import os\n",
    "import numpy as np\n",
    "import pandas as pd\n",
    "import matplotlib.pyplot as plt\n",
    "import seaborn as sns\n",
    "from PIL import Image\n",
    "import cv2\n",
    "\n",
    "from sklearn.model_selection import train_test_split\n",
    "import tensorflow as tf\n",
    "from tensorflow.keras.models import Sequential\n",
    "from tensorflow.keras.layers import (\n",
    "    Conv2D, MaxPooling2D, Flatten, Dense, Dropout, BatchNormalization)\n",
    "from tensorflow.keras.preprocessing.image import ImageDataGenerator\n",
    "from tensorflow.keras.optimizers import Adam\n",
    "from tensorflow.keras.callbacks import EarlyStopping, ModelCheckpoint\n",
    "from tensorflow.keras.utils import to_categorical\n",
    "\n",
    "from sklearn.metrics import accuracy_score, classification_report, confusion_matrix\n",
    "from tensorflow.keras.applications import ResNet50, VGG16\n",
    "\n",
    "import albumentations as A\n",
    "from albumentations.core.composition import OneOf\n",
    "from albumentations.core.transforms_interface import ImageOnlyTransform\n",
    "#from albumentations.keras import ToTensorV2\n",
    "\n",
    "from tensorflow.config import list_physical_devices\n"
   ],
   "outputs": [],
   "execution_count": 7
  },
  {
   "metadata": {},
   "cell_type": "markdown",
   "source": "Load Dataset Images",
   "id": "34d38cb8f37d51d6"
  },
  {
   "metadata": {
    "ExecuteTime": {
     "end_time": "2024-12-18T12:24:44.813810Z",
     "start_time": "2024-12-18T12:23:49.202750Z"
    }
   },
   "cell_type": "code",
   "source": [
    "normal_path = 'OralCancer/Normal'\n",
    "oscc_path = 'OralCancer/OSCC'\n",
    "\n",
    "IMG_HEIGHT, IMG_WIDTH = 224, 224\n",
    "\n",
    "images = []\n",
    "labels = []\n",
    "\n",
    "# Function to load images and assign labels\n",
    "def load_images_from_folder(folder, label):\n",
    "    for filename in os.listdir(folder):\n",
    "        filepath = os.path.join(folder, filename)\n",
    "        if os.path.isfile(filepath):  # Check if it's a file\n",
    "            try:\n",
    "                # Read and resize the image\n",
    "                img = cv2.imread(filepath)\n",
    "                img = cv2.cvtColor(img, cv2.COLOR_BGR2RGB)  # Convert BGR to RGB\n",
    "                img = cv2.resize(img, (IMG_WIDTH, IMG_HEIGHT))\n",
    "\n",
    "                images.append(img)\n",
    "                labels.append(label)\n",
    "            except Exception as e:\n",
    "                print(f\"Error loading image {filepath}: {e}\")\n",
    "\n",
    "# Load Normal and OSCC images\n",
    "load_images_from_folder(normal_path, label=0)  # 0 for Normal\n",
    "load_images_from_folder(oscc_path, label=1)    # 1 for OSCC\n",
    "\n",
    "# Convert to NumPy arrays for compatibility with TensorFlow\n",
    "images = np.array(images)\n",
    "labels = np.array(labels)\n",
    "\n",
    "print(f\"Total images loaded: {len(images)}\")\n",
    "print(f\"Image shape: {images[0].shape}\")\n",
    "print(f\"Labels distribution: {np.unique(labels, return_counts=True)}\")\n"
   ],
   "id": "393301378c0a3f4f",
   "outputs": [
    {
     "name": "stdout",
     "output_type": "stream",
     "text": [
      "Total images loaded: 4946\n",
      "Image shape: (224, 224, 3)\n",
      "Labels distribution: (array([0, 1]), array([2435, 2511], dtype=int64))\n"
     ]
    }
   ],
   "execution_count": 8
  },
  {
   "metadata": {},
   "cell_type": "code",
   "outputs": [],
   "execution_count": null,
   "source": "",
   "id": "d490eb771317d39f"
  }
 ],
 "metadata": {
  "kernelspec": {
   "display_name": "Python 3",
   "language": "python",
   "name": "python3"
  },
  "language_info": {
   "codemirror_mode": {
    "name": "ipython",
    "version": 2
   },
   "file_extension": ".py",
   "mimetype": "text/x-python",
   "name": "python",
   "nbconvert_exporter": "python",
   "pygments_lexer": "ipython2",
   "version": "2.7.6"
  }
 },
 "nbformat": 4,
 "nbformat_minor": 5
}
