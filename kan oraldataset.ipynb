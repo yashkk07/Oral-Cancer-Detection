{
 "cells": [
  {
   "cell_type": "code",
   "id": "initial_id",
   "metadata": {
    "collapsed": true,
    "ExecuteTime": {
     "end_time": "2025-01-05T16:12:00.629161Z",
     "start_time": "2025-01-05T16:11:49.284696Z"
    }
   },
   "source": [
    "import numpy as np\n",
    "import matplotlib.pyplot as plt\n",
    "import os\n",
    "import cv2\n",
    "from sklearn.metrics import confusion_matrix\n",
    "import seaborn as sns\n",
    "from sklearn.model_selection import train_test_split\n",
    "from tensorflow.keras.utils import to_categorical\n",
    "from tensorflow.keras.models import Sequential\n",
    "from tensorflow.keras.layers import Conv2D, GlobalAveragePooling2D, Dense\n",
    "from tensorflow.keras.optimizers import Adam\n",
    "from tensorflow.keras.callbacks import EarlyStopping, ModelCheckpoint\n",
    "from tensorflow.keras.layers import LayerNormalization\n",
    "from sklearn.metrics import accuracy_score, precision_score, recall_score, f1_score, classification_report"
   ],
   "outputs": [
    {
     "name": "stdout",
     "output_type": "stream",
     "text": [
      "WARNING:tensorflow:From C:\\Users\\sharv\\AppData\\Local\\Programs\\Python\\Python310\\lib\\site-packages\\keras\\src\\losses.py:2976: The name tf.losses.sparse_softmax_cross_entropy is deprecated. Please use tf.compat.v1.losses.sparse_softmax_cross_entropy instead.\n",
      "\n"
     ]
    }
   ],
   "execution_count": 1
  },
  {
   "metadata": {
    "ExecuteTime": {
     "end_time": "2025-01-05T16:12:00.645090Z",
     "start_time": "2025-01-05T16:12:00.638676Z"
    }
   },
   "cell_type": "code",
   "source": [
    "normal_path = 'OralCancer/Normal'\n",
    "oscc_path = 'OralCancer/OSCC'"
   ],
   "id": "6649471f31005bfa",
   "outputs": [],
   "execution_count": 2
  },
  {
   "metadata": {
    "ExecuteTime": {
     "end_time": "2025-01-05T16:12:57.710531Z",
     "start_time": "2025-01-05T16:12:00.654714Z"
    }
   },
   "cell_type": "code",
   "source": [
    "def load_images(folder_path, label, image_size=(128, 128)):\n",
    "    images, labels = [], []\n",
    "    for img_name in os.listdir(folder_path):\n",
    "        img_path = os.path.join(folder_path, img_name)\n",
    "        img = cv2.imread(img_path)\n",
    "        if img is not None:\n",
    "            img = cv2.resize(img, image_size)\n",
    "            images.append(img)\n",
    "            labels.append(label)\n",
    "    return np.array(images), np.array(labels)\n",
    "\n",
    "# Load Normal and OSCC images\n",
    "normal_images, normal_labels = load_images(normal_path, label=0)\n",
    "oscc_images, oscc_labels = load_images(oscc_path, label=1)"
   ],
   "id": "2a22afe5ef3296a1",
   "outputs": [],
   "execution_count": 3
  },
  {
   "metadata": {
    "ExecuteTime": {
     "end_time": "2025-01-05T16:12:58.099106Z",
     "start_time": "2025-01-05T16:12:58.054092Z"
    }
   },
   "cell_type": "code",
   "source": [
    "images = np.concatenate((normal_images, oscc_images), axis=0)\n",
    "labels = np.concatenate((normal_labels, oscc_labels), axis=0)"
   ],
   "id": "bbe06f445ede927c",
   "outputs": [],
   "execution_count": 4
  },
  {
   "metadata": {
    "ExecuteTime": {
     "end_time": "2025-01-05T16:12:58.674844Z",
     "start_time": "2025-01-05T16:12:58.116138Z"
    }
   },
   "cell_type": "code",
   "source": [
    "# Normalize images\n",
    "images = images / 255.0\n",
    "# One-hot encode labels\n",
    "labels = to_categorical(labels, num_classes=2)"
   ],
   "id": "641ad40cda685220",
   "outputs": [],
   "execution_count": 5
  },
  {
   "metadata": {
    "ExecuteTime": {
     "end_time": "2025-01-05T16:13:02.976093Z",
     "start_time": "2025-01-05T16:12:58.708107Z"
    }
   },
   "cell_type": "code",
   "source": [
    "# Split dataset\n",
    "X_train, X_temp, y_train, y_temp = train_test_split(images, labels, test_size=0.3, random_state=97, stratify=labels)\n",
    "X_val, X_test, y_val, y_test = train_test_split(X_temp, y_temp, test_size=0.33, random_state=97, stratify=y_temp)"
   ],
   "id": "f6148e18e928da41",
   "outputs": [],
   "execution_count": 6
  },
  {
   "metadata": {
    "ExecuteTime": {
     "end_time": "2025-01-05T16:13:04.080080Z",
     "start_time": "2025-01-05T16:13:04.066306Z"
    }
   },
   "cell_type": "code",
   "source": [
    "# # Define the KAN model\n",
    "# model = Sequential([\n",
    "#     # First Convolutional Block\n",
    "#     Conv2D(filters=8, kernel_size=5, strides=2, padding='valid', activation='relu', input_shape=(128, 128, 3)),\n",
    "#     LayerNormalization(),\n",
    "#\n",
    "#     # Second Convolutional Block\n",
    "#     Conv2D(filters=16, kernel_size=5, strides=2, padding='valid', activation='relu'),\n",
    "#     LayerNormalization(),\n",
    "#\n",
    "#     # Global Average Pooling\n",
    "#     GlobalAveragePooling2D(),\n",
    "#\n",
    "#     # Fully Connected Layer (Dense)\n",
    "#     Dense(10, activation='relu'),\n",
    "#\n",
    "#     # Output Layer (Softmax for binary classification)\n",
    "#     Dense(2, activation='softmax')\n",
    "# ])\n",
    "#\n",
    "# # Compile the model with categorical crossentropy loss\n",
    "# model.compile(optimizer='adam', loss='categorical_crossentropy', metrics=['accuracy'])\n",
    "#\n",
    "# # Display the model summary\n",
    "# model.summary()"
   ],
   "id": "35bf465ec0915fec",
   "outputs": [],
   "execution_count": 7
  },
  {
   "metadata": {
    "ExecuteTime": {
     "end_time": "2025-01-05T16:13:04.095441Z",
     "start_time": "2025-01-05T16:13:04.087013Z"
    }
   },
   "cell_type": "code",
   "source": [
    "print(X_train.shape)\n",
    "print(y_train.shape)"
   ],
   "id": "de57855af6961746",
   "outputs": [
    {
     "name": "stdout",
     "output_type": "stream",
     "text": [
      "(3462, 128, 128, 3)\n",
      "(3462, 2)\n"
     ]
    }
   ],
   "execution_count": 8
  },
  {
   "metadata": {
    "ExecuteTime": {
     "end_time": "2025-01-05T16:13:04.142670Z",
     "start_time": "2025-01-05T16:13:04.129107Z"
    }
   },
   "cell_type": "code",
   "source": [
    "# # Callbacks\n",
    "# early_stopping = EarlyStopping(monitor='val_loss', patience=20, restore_best_weights=True)\n",
    "# model_checkpoint = ModelCheckpoint('kan_oralcancer_model1.keras', save_best_only=True, monitor='val_loss')\n",
    "#\n",
    "# # Train the model\n",
    "# history = model.fit(\n",
    "#     X_train, y_train,\n",
    "#     validation_data=(X_val, y_val),\n",
    "#     epochs=99,\n",
    "#     batch_size=64,\n",
    "#     callbacks=[early_stopping, model_checkpoint]\n",
    "# )"
   ],
   "id": "88f91ce03c6e85e7",
   "outputs": [],
   "execution_count": 9
  },
  {
   "metadata": {
    "ExecuteTime": {
     "end_time": "2025-01-05T16:13:04.875004Z",
     "start_time": "2025-01-05T16:13:04.173724Z"
    }
   },
   "cell_type": "code",
   "source": [
    "#Load saved model\n",
    "\n",
    "from tensorflow.keras.models import load_model\n",
    "model = load_model('kan_oralcancer_model.keras')\n",
    "model.summary()"
   ],
   "id": "f62bd6895add0e05",
   "outputs": [
    {
     "name": "stdout",
     "output_type": "stream",
     "text": [
      "WARNING:tensorflow:From C:\\Users\\sharv\\AppData\\Local\\Programs\\Python\\Python310\\lib\\site-packages\\keras\\src\\backend.py:1398: The name tf.executing_eagerly_outside_functions is deprecated. Please use tf.compat.v1.executing_eagerly_outside_functions instead.\n",
      "\n",
      "WARNING:tensorflow:From C:\\Users\\sharv\\AppData\\Local\\Programs\\Python\\Python310\\lib\\site-packages\\keras\\src\\layers\\normalization\\layer_normalization.py:328: The name tf.nn.fused_batch_norm is deprecated. Please use tf.compat.v1.nn.fused_batch_norm instead.\n",
      "\n",
      "WARNING:tensorflow:From C:\\Users\\sharv\\AppData\\Local\\Programs\\Python\\Python310\\lib\\site-packages\\keras\\src\\optimizers\\__init__.py:309: The name tf.train.Optimizer is deprecated. Please use tf.compat.v1.train.Optimizer instead.\n",
      "\n",
      "Model: \"sequential\"\n",
      "_________________________________________________________________\n",
      " Layer (type)                Output Shape              Param #   \n",
      "=================================================================\n",
      " conv2d (Conv2D)             (None, 62, 62, 8)         608       \n",
      "                                                                 \n",
      " layer_normalization (Layer  (None, 62, 62, 8)         16        \n",
      " Normalization)                                                  \n",
      "                                                                 \n",
      " conv2d_1 (Conv2D)           (None, 29, 29, 16)        3216      \n",
      "                                                                 \n",
      " layer_normalization_1 (Lay  (None, 29, 29, 16)        32        \n",
      " erNormalization)                                                \n",
      "                                                                 \n",
      " global_average_pooling2d (  (None, 16)                0         \n",
      " GlobalAveragePooling2D)                                         \n",
      "                                                                 \n",
      " dense (Dense)               (None, 10)                170       \n",
      "                                                                 \n",
      " dense_1 (Dense)             (None, 2)                 22        \n",
      "                                                                 \n",
      "=================================================================\n",
      "Total params: 4064 (15.88 KB)\n",
      "Trainable params: 4064 (15.88 KB)\n",
      "Non-trainable params: 0 (0.00 Byte)\n",
      "_________________________________________________________________\n"
     ]
    }
   ],
   "execution_count": 10
  },
  {
   "metadata": {
    "ExecuteTime": {
     "end_time": "2025-01-05T16:13:05.776809Z",
     "start_time": "2025-01-05T16:13:04.924152Z"
    }
   },
   "cell_type": "code",
   "source": [
    "test_loss, test_accuracy = model.evaluate(X_test, y_test)\n",
    "print(f\"Test Loss: {test_loss}\")\n",
    "print(f\"Test Accuracy: {test_accuracy}\")"
   ],
   "id": "ffa0e1c246b0275a",
   "outputs": [
    {
     "name": "stdout",
     "output_type": "stream",
     "text": [
      "WARNING:tensorflow:From C:\\Users\\sharv\\AppData\\Local\\Programs\\Python\\Python310\\lib\\site-packages\\keras\\src\\utils\\tf_utils.py:492: The name tf.ragged.RaggedTensorValue is deprecated. Please use tf.compat.v1.ragged.RaggedTensorValue instead.\n",
      "\n",
      "WARNING:tensorflow:From C:\\Users\\sharv\\AppData\\Local\\Programs\\Python\\Python310\\lib\\site-packages\\keras\\src\\engine\\base_layer_utils.py:384: The name tf.executing_eagerly_outside_functions is deprecated. Please use tf.compat.v1.executing_eagerly_outside_functions instead.\n",
      "\n",
      "16/16 [==============================] - 1s 6ms/step - loss: 0.4123 - accuracy: 0.8306\n",
      "Test Loss: 0.4123147428035736\n",
      "Test Accuracy: 0.8306122422218323\n"
     ]
    }
   ],
   "execution_count": 11
  },
  {
   "metadata": {
    "ExecuteTime": {
     "end_time": "2025-01-05T16:13:06.121256Z",
     "start_time": "2025-01-05T16:13:05.810035Z"
    }
   },
   "cell_type": "code",
   "source": [
    "# Plot accuracy and loss curves\n",
    "plt.figure(figsize=(12, 6))\n",
    "plt.subplot(1, 2, 1)\n",
    "plt.plot(history.history['accuracy'], label='Training Accuracy')\n",
    "plt.plot(history.history['val_accuracy'], label='Validation Accuracy')\n",
    "plt.legend()\n",
    "plt.title('Accuracy')\n",
    "\n",
    "plt.subplot(1, 2, 2)\n",
    "plt.plot(history.history['loss'], label='Training Loss')\n",
    "plt.plot(history.history['val_loss'], label='Validation Loss')\n",
    "plt.legend()\n",
    "plt.title('Loss')\n",
    "plt.show()"
   ],
   "id": "60e7193400d14060",
   "outputs": [
    {
     "ename": "NameError",
     "evalue": "name 'history' is not defined",
     "output_type": "error",
     "traceback": [
      "\u001B[1;31m---------------------------------------------------------------------------\u001B[0m",
      "\u001B[1;31mNameError\u001B[0m                                 Traceback (most recent call last)",
      "Cell \u001B[1;32mIn[12], line 4\u001B[0m\n\u001B[0;32m      2\u001B[0m plt\u001B[38;5;241m.\u001B[39mfigure(figsize\u001B[38;5;241m=\u001B[39m(\u001B[38;5;241m12\u001B[39m, \u001B[38;5;241m6\u001B[39m))\n\u001B[0;32m      3\u001B[0m plt\u001B[38;5;241m.\u001B[39msubplot(\u001B[38;5;241m1\u001B[39m, \u001B[38;5;241m2\u001B[39m, \u001B[38;5;241m1\u001B[39m)\n\u001B[1;32m----> 4\u001B[0m plt\u001B[38;5;241m.\u001B[39mplot(\u001B[43mhistory\u001B[49m\u001B[38;5;241m.\u001B[39mhistory[\u001B[38;5;124m'\u001B[39m\u001B[38;5;124maccuracy\u001B[39m\u001B[38;5;124m'\u001B[39m], label\u001B[38;5;241m=\u001B[39m\u001B[38;5;124m'\u001B[39m\u001B[38;5;124mTraining Accuracy\u001B[39m\u001B[38;5;124m'\u001B[39m)\n\u001B[0;32m      5\u001B[0m plt\u001B[38;5;241m.\u001B[39mplot(history\u001B[38;5;241m.\u001B[39mhistory[\u001B[38;5;124m'\u001B[39m\u001B[38;5;124mval_accuracy\u001B[39m\u001B[38;5;124m'\u001B[39m], label\u001B[38;5;241m=\u001B[39m\u001B[38;5;124m'\u001B[39m\u001B[38;5;124mValidation Accuracy\u001B[39m\u001B[38;5;124m'\u001B[39m)\n\u001B[0;32m      6\u001B[0m plt\u001B[38;5;241m.\u001B[39mlegend()\n",
      "\u001B[1;31mNameError\u001B[0m: name 'history' is not defined"
     ]
    },
    {
     "data": {
      "text/plain": [
       "<Figure size 1200x600 with 1 Axes>"
      ],
      "image/png": "[encoded data removed]"
     },
     "metadata": {},
     "output_type": "display_data"
    }
   ],
   "execution_count": 12
  },
  {
   "metadata": {
    "ExecuteTime": {
     "end_time": "2025-01-05T16:17:08.087145Z",
     "start_time": "2025-01-05T16:17:07.498051Z"
    }
   },
   "cell_type": "code",
   "source": [
    "# Confusion matrix\n",
    "y_pred = np.argmax(model.predict(X_test), axis=1)\n",
    "y_true = np.argmax(y_test, axis=1)\n",
    "cm = confusion_matrix(y_true, y_pred)\n",
    "class_names = ['Normal', 'OSCC']\n",
    "sns.heatmap(cm, annot=True, fmt='d', cmap='Blues', xticklabels=class_names, yticklabels=class_names)\n",
    "plt.title('Confusion Matrix')\n",
    "plt.xlabel('Predicted')\n",
    "plt.ylabel('Actual')\n",
    "plt.show()"
   ],
   "id": "34f12bd77f92e4db",
   "outputs": [
    {
     "name": "stdout",
     "output_type": "stream",
     "text": [
      "16/16 [==============================] - 0s 6ms/step\n"
     ]
    },
    {
     "data": {
      "text/plain": [
       "<Figure size 640x480 with 2 Axes>"
      ],
      "image/png": "[encoded data removed]"
     },
     "metadata": {},
     "output_type": "display_data"
    }
   ],
   "execution_count": 13
  },
  {
   "metadata": {
    "ExecuteTime": {
     "end_time": "2025-01-05T16:17:16.503839Z",
     "start_time": "2025-01-05T16:17:16.489808Z"
    }
   },
   "cell_type": "code",
   "source": [
    "tn, fp, fn, tp = cm.ravel()\n",
    "accuracy = accuracy_score(y_true, y_pred)\n",
    "precision = precision_score(y_true, y_pred)\n",
    "recall = recall_score(y_true, y_pred)\n",
    "specificity = tn / (tn + fp)\n",
    "f1 = f1_score(y_true, y_pred)\n",
    "\n",
    "print(f\"Accuracy: {accuracy:.4f}\")\n",
    "print(f\"Precision: {precision:.4f}\")\n",
    "print(f\"Recall (Sensitivity): {recall:.4f}\")\n",
    "print(f\"Specificity: {specificity:.4f}\")\n",
    "print(f\"F1 Score: {f1:.4f}\")\n",
    "print(f\"True Positive: {tp}\")\n",
    "print(f\"True Negative: {tn}\")\n",
    "print(f\"False Positive: {fp}\")\n",
    "print(f\"False Negative: {fn}\")"
   ],
   "id": "abc1b90986afe279",
   "outputs": [
    {
     "name": "stdout",
     "output_type": "stream",
     "text": [
      "Accuracy: 0.8306\n",
      "Precision: 0.8320\n",
      "Recall (Sensitivity): 0.8353\n",
      "Specificity: 0.8257\n",
      "F1 Score: 0.8337\n",
      "True Positive: 208\n",
      "True Negative: 199\n",
      "False Positive: 42\n",
      "False Negative: 41\n"
     ]
    }
   ],
   "execution_count": 14
  },
  {
   "metadata": {},
   "cell_type": "code",
   "outputs": [],
   "execution_count": null,
   "source": "",
   "id": "21c666faab7f89bc"
  }
 ],
 "metadata": {
  "kernelspec": {
   "display_name": "Python 3",
   "language": "python",
   "name": "python3"
  },
  "language_info": {
   "codemirror_mode": {
    "name": "ipython",
    "version": 2
   },
   "file_extension": ".py",
   "mimetype": "text/x-python",
   "name": "python",
   "nbconvert_exporter": "python",
   "pygments_lexer": "ipython2",
   "version": "2.7.6"
  }
 },
 "nbformat": 4,
 "nbformat_minor": 5
}
